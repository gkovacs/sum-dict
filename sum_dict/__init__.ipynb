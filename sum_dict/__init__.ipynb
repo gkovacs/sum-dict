{
 "cells": [
  {
   "cell_type": "code",
   "execution_count": 1,
   "metadata": {},
   "outputs": [
    {
     "name": "stdout",
     "output_type": "stream",
     "text": [
      "[NbConvertApp] Converting notebook __init__.ipynb to python\r\n"
     ]
    }
   ],
   "source": [
    "# noexport\n",
    "\n",
    "!typech __init__.ipynb"
   ]
  },
  {
   "cell_type": "code",
   "execution_count": 11,
   "metadata": {},
   "outputs": [],
   "source": [
    "import copy\n",
    "\n",
    "def add_vals_to_dict(output_dict, input_dict):\n",
    "  for k,v in input_dict.items():\n",
    "    if k not in output_dict:\n",
    "      output_dict[k] = copy.copy(v)\n",
    "    else:\n",
    "      type_v = type(v)\n",
    "      if type_v == dict:\n",
    "        add_vals_to_dict(output_dict[k], input_dict[k])\n",
    "      else:\n",
    "        output_dict[k] += v\n",
    "\n",
    "def sum_dict(dict_list):\n",
    "  output_dict = {}\n",
    "  for x in dict_list:\n",
    "    add_vals_to_dict(output_dict, x)\n",
    "  return output_dict"
   ]
  },
  {
   "cell_type": "code",
   "execution_count": 6,
   "metadata": {},
   "outputs": [
    {
     "data": {
      "text/plain": [
       "{'q': 4}"
      ]
     },
     "execution_count": 6,
     "metadata": {},
     "output_type": "execute_result"
    }
   ],
   "source": [
    "# noexport\n",
    "\n",
    "a = {'q': 1}\n",
    "b = {'q': 3}\n",
    "add_vals_to_dict(a, b)\n",
    "a"
   ]
  },
  {
   "cell_type": "code",
   "execution_count": 7,
   "metadata": {},
   "outputs": [
    {
     "data": {
      "text/plain": [
       "{'q': 3}"
      ]
     },
     "execution_count": 7,
     "metadata": {},
     "output_type": "execute_result"
    }
   ],
   "source": [
    "# noexport\n",
    "\n",
    "a = {}\n",
    "b = {'q': 3}\n",
    "add_vals_to_dict(a, b)\n",
    "a"
   ]
  },
  {
   "cell_type": "code",
   "execution_count": 8,
   "metadata": {},
   "outputs": [
    {
     "data": {
      "text/plain": [
       "{'q': 3, 'c': {'b': 6}}"
      ]
     },
     "execution_count": 8,
     "metadata": {},
     "output_type": "execute_result"
    }
   ],
   "source": [
    "# noexport\n",
    "\n",
    "a = {}\n",
    "b = {'q': 3, 'c': {'b': 6}}\n",
    "add_vals_to_dict(a, b)\n",
    "a"
   ]
  },
  {
   "cell_type": "code",
   "execution_count": 9,
   "metadata": {},
   "outputs": [
    {
     "data": {
      "text/plain": [
       "{'c': {'a': 2, 'b': 6}, 'q': 3}"
      ]
     },
     "execution_count": 9,
     "metadata": {},
     "output_type": "execute_result"
    }
   ],
   "source": [
    "# noexport\n",
    "\n",
    "a = {'c': {'a': 2}}\n",
    "b = {'q': 3, 'c': {'b': 6}}\n",
    "add_vals_to_dict(a, b)\n",
    "a"
   ]
  },
  {
   "cell_type": "code",
   "execution_count": 10,
   "metadata": {},
   "outputs": [
    {
     "data": {
      "text/plain": [
       "{'c': {'a': 2, 'b': 7}, 'q': 3}"
      ]
     },
     "execution_count": 10,
     "metadata": {},
     "output_type": "execute_result"
    }
   ],
   "source": [
    "# noexport\n",
    "\n",
    "a = {'c': {'a': 2, 'b': 1}}\n",
    "b = {'q': 3, 'c': {'b': 6}}\n",
    "add_vals_to_dict(a, b)\n",
    "a"
   ]
  },
  {
   "cell_type": "code",
   "execution_count": 12,
   "metadata": {},
   "outputs": [
    {
     "data": {
      "text/plain": [
       "{'c': {'a': 2, 'b': 7}, 'q': 3}"
      ]
     },
     "execution_count": 12,
     "metadata": {},
     "output_type": "execute_result"
    }
   ],
   "source": [
    "# noexport\n",
    "\n",
    "sum_dict([{'c': {'a': 2, 'b': 1}}, {'q': 3, 'c': {'b': 6}}])"
   ]
  }
 ],
 "metadata": {
  "kernelspec": {
   "display_name": "Python 3",
   "language": "python",
   "name": "python3"
  },
  "language_info": {
   "codemirror_mode": {
    "name": "ipython",
    "version": 3
   },
   "file_extension": ".py",
   "mimetype": "text/x-python",
   "name": "python",
   "nbconvert_exporter": "python",
   "pygments_lexer": "ipython3",
   "version": "3.7.4"
  }
 },
 "nbformat": 4,
 "nbformat_minor": 2
}
